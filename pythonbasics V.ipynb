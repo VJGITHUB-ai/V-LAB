{
 "cells": [
  {
   "cell_type": "code",
   "execution_count": 11,
   "id": "68618eaf-2015-433c-80c5-b8359cbf1e84",
   "metadata": {},
   "outputs": [
    {
     "name": "stdout",
     "output_type": "stream",
     "text": [
      " Ten is greater than Two!\n"
     ]
    }
   ],
   "source": [
    "if 10 > 2:\n",
    "\n",
    "    print(\" Ten is greater than Two!\")"
   ]
  },
  {
   "cell_type": "code",
   "execution_count": 17,
   "id": "cdec0cc1-86f3-4a38-81cd-57cc6c6421eb",
   "metadata": {},
   "outputs": [
    {
     "name": "stdout",
     "output_type": "stream",
     "text": [
      "Fifteen is less than Twenty Five!\n"
     ]
    }
   ],
   "source": [
    "if 15 < 25:\n",
    "    print(\"Fifteen is less than Twenty Five!\")"
   ]
  },
  {
   "cell_type": "code",
   "execution_count": 19,
   "id": "a31d6688-f496-4e19-8778-2eb13b3eea7e",
   "metadata": {},
   "outputs": [],
   "source": [
    "# Vijay is a good boy\n",
    "# This is comment\n"
   ]
  },
  {
   "cell_type": "code",
   "execution_count": 21,
   "id": "ba3940f8-f903-4f67-bc15-5dba5b351085",
   "metadata": {},
   "outputs": [
    {
     "name": "stdout",
     "output_type": "stream",
     "text": [
      "Hello, world\n"
     ]
    }
   ],
   "source": [
    "# This program prints Hello, world\n",
    "\n",
    "print('Hello, world')"
   ]
  },
  {
   "cell_type": "code",
   "execution_count": 3,
   "id": "0ad08ceb-f7e0-44b9-b5f5-215b3bfd5985",
   "metadata": {},
   "outputs": [
    {
     "name": "stdout",
     "output_type": "stream",
     "text": [
      "10\n"
     ]
    }
   ],
   "source": [
    "# creating variables\n",
    "\n",
    "a = 10\n",
    "print(a)"
   ]
  },
  {
   "cell_type": "code",
   "execution_count": 5,
   "id": "11bfba5c-32f4-4b89-b8e2-57d8df124c7b",
   "metadata": {},
   "outputs": [],
   "source": [
    "# examples of creating variables"
   ]
  },
  {
   "cell_type": "code",
   "execution_count": 11,
   "id": "e3803f0f-0c7d-47b1-ba2a-f7194b70160e",
   "metadata": {},
   "outputs": [
    {
     "name": "stdout",
     "output_type": "stream",
     "text": [
      "vijay\n",
      "hyderabad\n",
      "21\n"
     ]
    }
   ],
   "source": [
    "name = 'vijay'\n",
    "city = 'hyderabad'\n",
    "age  = 21\n",
    "print(name)\n",
    "print(city)\n",
    "print(age)"
   ]
  },
  {
   "cell_type": "code",
   "execution_count": 43,
   "id": "5d88e753-9e65-4db6-abb6-e54c944210ec",
   "metadata": {},
   "outputs": [
    {
     "name": "stdout",
     "output_type": "stream",
     "text": [
      "state\n",
      "capital\n",
      "country\n",
      "money\n"
     ]
    }
   ],
   "source": [
    "delhi = 'state'\n",
    "mumbai = 'capital'\n",
    "usa = 'country'\n",
    "bank = 'money'\n",
    "print(delhi)\n",
    "print(mumbai)\n",
    "print(usa)\n",
    "print(bank)"
   ]
  },
  {
   "cell_type": "code",
   "execution_count": 15,
   "id": "d8ce5aed-81bc-456a-b5cd-9d074d7a6a03",
   "metadata": {},
   "outputs": [
    {
     "name": "stdout",
     "output_type": "stream",
     "text": [
      "he\n",
      "she\n"
     ]
    }
   ],
   "source": [
    "man = 'he'\n",
    "woman = 'she'\n",
    "print(man)\n",
    "print(woman)"
   ]
  },
  {
   "cell_type": "code",
   "execution_count": 17,
   "id": "b0c6cf54-0943-4f08-aee5-a96bce18a130",
   "metadata": {},
   "outputs": [
    {
     "name": "stdout",
     "output_type": "stream",
     "text": [
      "boy\n",
      "girl\n",
      "21\n"
     ]
    }
   ],
   "source": [
    "raju = 'boy'\n",
    "rani = 'girl'\n",
    "age = 21\n",
    "print(raju)\n",
    "print(rani)\n",
    "print(age)\n"
   ]
  },
  {
   "cell_type": "code",
   "execution_count": 59,
   "id": "f9466dd4-67ca-4bac-a5cf-0a9ee55a860c",
   "metadata": {},
   "outputs": [
    {
     "name": "stdout",
     "output_type": "stream",
     "text": [
      "1234\n",
      "4567\n",
      "891011\n"
     ]
    }
   ],
   "source": [
    "_num21A = 1234\n",
    "_num22B = 4567\n",
    "_num22C = 891011\n",
    "print(_num21A)\n",
    "print(_num22B)\n",
    "print(_num22C)"
   ]
  },
  {
   "cell_type": "code",
   "execution_count": 3,
   "id": "c3adfe1c-c88e-4a61-8f8c-7628ea965b3d",
   "metadata": {},
   "outputs": [
    {
     "name": "stdout",
     "output_type": "stream",
     "text": [
      "india\n",
      "america\n",
      "australia\n",
      "dubai\n",
      "england\n"
     ]
    }
   ],
   "source": [
    "name_1 = 'india'\n",
    "name_2 = 'america'\n",
    "name_3 = 'australia'\n",
    "name_4 = 'dubai'\n",
    "name_5 = 'england'\n",
    "\n",
    "print(name_1)\n",
    "print(name_2)\n",
    "print(name_3)\n",
    "print(name_4)\n",
    "print(name_5)\n"
   ]
  },
  {
   "cell_type": "code",
   "execution_count": 9,
   "id": "fc3825f3-13f3-4378-adac-e5d2c0796c0e",
   "metadata": {},
   "outputs": [
    {
     "name": "stdout",
     "output_type": "stream",
     "text": [
      "rohit\n",
      "kohli\n",
      "bumarah\n"
     ]
    }
   ],
   "source": [
    "hitman = 'rohit'\n",
    "king = 'kohli'\n",
    "boom = 'bumarah'\n",
    "\n",
    "print(hitman)\n",
    "print(king)\n",
    "print(boom)\n",
    "\n"
   ]
  },
  {
   "cell_type": "code",
   "execution_count": 11,
   "id": "af5c1263-31f8-432b-8834-32789dc8178e",
   "metadata": {},
   "outputs": [
    {
     "name": "stdout",
     "output_type": "stream",
     "text": [
      "iit roorkie\n",
      "iisc banglore\n",
      "iit kharagpur\n"
     ]
    }
   ],
   "source": [
    "GATE2025 = 'iit roorkie'\n",
    "GATE2024 = 'iisc banglore'\n",
    "GATE2023 = 'iit kharagpur'\n",
    "print(GATE2025)\n",
    "print(GATE2024)\n",
    "print(GATE2023)"
   ]
  },
  {
   "cell_type": "code",
   "execution_count": 13,
   "id": "2fbddf79-f81d-4a79-8aa6-8eaa04d60e70",
   "metadata": {},
   "outputs": [
    {
     "name": "stdout",
     "output_type": "stream",
     "text": [
      "compiler desings\n",
      "machine learning\n",
      "prostats\n"
     ]
    }
   ],
   "source": [
    "csit = 'compiler desings'\n",
    "da = 'machine learning'\n",
    "csit_da = 'prostats'\n",
    "\n",
    "print(csit)\n",
    "print(da)\n",
    "print(csit_da)"
   ]
  },
  {
   "cell_type": "code",
   "execution_count": 15,
   "id": "5d80dc05-e2c6-4c39-bf43-0609c8d1e3d7",
   "metadata": {},
   "outputs": [
    {
     "name": "stdout",
     "output_type": "stream",
     "text": [
      "iit\n",
      "data science\n",
      "gate\n"
     ]
    }
   ],
   "source": [
    "aim = 'iit'\n",
    "specialization = 'data science'\n",
    "entrance = 'gate'\n",
    "\n",
    "print(aim)\n",
    "print(specialization)\n",
    "print(entrance)"
   ]
  },
  {
   "cell_type": "code",
   "execution_count": 39,
   "id": "5f9ab6ae-7f84-4860-90fc-788a0b084161",
   "metadata": {},
   "outputs": [],
   "source": [
    "# mutliple variables\n"
   ]
  },
  {
   "cell_type": "code",
   "execution_count": 41,
   "id": "fc092f1e-7ffb-4f89-b68a-4867ce3a9d54",
   "metadata": {},
   "outputs": [
    {
     "name": "stdout",
     "output_type": "stream",
     "text": [
      "Cherry\n",
      "Apple\n",
      "Banana\n"
     ]
    }
   ],
   "source": [
    "X , Y , Z = (\"Cherry\" , \"Apple\" , \"Banana\")\n",
    "\n",
    "print(X)\n",
    "print(Y)\n",
    "print(Z)\n"
   ]
  },
  {
   "cell_type": "code",
   "execution_count": 17,
   "id": "2fa799a8-4631-42e8-8645-e737fb04d951",
   "metadata": {},
   "outputs": [
    {
     "name": "stdout",
     "output_type": "stream",
     "text": [
      "country\n",
      "capital\n",
      "state\n"
     ]
    }
   ],
   "source": [
    "India , Delhi , Mumbai = (\"country\" , \"capital\" , \"state\")\n",
    "\n",
    "print(India)\n",
    "print(Delhi)\n",
    "print(Mumbai)\n"
   ]
  },
  {
   "cell_type": "code",
   "execution_count": 19,
   "id": "0fa3a6ed-361f-44f5-8b88-bad570ad7218",
   "metadata": {},
   "outputs": [
    {
     "name": "stdout",
     "output_type": "stream",
     "text": [
      "Btech\n",
      "Btech\n",
      "Btech\n"
     ]
    }
   ],
   "source": [
    "cse=da=ce = \"Btech\"\n",
    "print(cse)\n",
    "print(da)\n",
    "print(ce)\n",
    "      "
   ]
  },
  {
   "cell_type": "code",
   "execution_count": 21,
   "id": "352dd854-fbca-4b58-a078-e3faf9a34145",
   "metadata": {},
   "outputs": [
    {
     "name": "stdout",
     "output_type": "stream",
     "text": [
      "forest\n",
      "forest\n",
      "forest\n"
     ]
    }
   ],
   "source": [
    "elephant=tiger=lion = \"forest\"\n",
    "print(elephant)\n",
    "print(tiger)\n",
    "print(lion)"
   ]
  },
  {
   "cell_type": "code",
   "execution_count": 27,
   "id": "4ee39928-8420-43f2-89e1-414bb77cdb38",
   "metadata": {},
   "outputs": [
    {
     "name": "stdout",
     "output_type": "stream",
     "text": [
      "family\n",
      "family\n",
      "family\n"
     ]
    }
   ],
   "source": [
    "father=mother=childrens = \"family\"\n",
    "\n",
    "print(father)\n",
    "print(mother)\n",
    "print(childrens)"
   ]
  },
  {
   "cell_type": "code",
   "execution_count": 29,
   "id": "e39020a6-bbc2-4390-a866-fabb9f2cc537",
   "metadata": {},
   "outputs": [
    {
     "name": "stdout",
     "output_type": "stream",
     "text": [
      "entrance exams\n",
      "entrance exams\n",
      "entrance exams\n"
     ]
    }
   ],
   "source": [
    "GATE=CAT=ECET = 'entrance exams'\n",
    "print(GATE)\n",
    "print(CAT)\n",
    "print(ECET)\n"
   ]
  },
  {
   "cell_type": "code",
   "execution_count": 31,
   "id": "3b75ec73-4f28-4aba-bf03-a4e89f2a7355",
   "metadata": {},
   "outputs": [
    {
     "name": "stdout",
     "output_type": "stream",
     "text": [
      "years\n",
      "years\n",
      "years\n"
     ]
    }
   ],
   "source": [
    "y2024=y2023=y2022 = 'years'\n",
    "print(y2024)\n",
    "print(y2023)\n",
    "print(y2022)"
   ]
  },
  {
   "cell_type": "code",
   "execution_count": 33,
   "id": "5d1bfa76-a5b6-405a-ac66-1a29aef4d099",
   "metadata": {},
   "outputs": [
    {
     "name": "stdout",
     "output_type": "stream",
     "text": [
      "friends\n",
      "friends\n",
      "friends\n"
     ]
    }
   ],
   "source": [
    "vijay=vamshi=raki = 'friends'\n",
    "print(vijay)\n",
    "print(vamshi)\n",
    "print(raki)"
   ]
  },
  {
   "cell_type": "code",
   "execution_count": 39,
   "id": "e97c2e20-daed-4164-a180-7283d5360129",
   "metadata": {},
   "outputs": [
    {
     "name": "stdout",
     "output_type": "stream",
     "text": [
      "gadgets\n",
      "gadgets\n",
      "gadgets\n"
     ]
    }
   ],
   "source": [
    "laptop=tabs=mobiles = 'gadgets'\n",
    "\n",
    "print(laptop)\n",
    "print(tabs)\n",
    "print(mobiles)"
   ]
  },
  {
   "cell_type": "code",
   "execution_count": 41,
   "id": "f50094c7-0a97-443a-8630-b2b41fe4a410",
   "metadata": {},
   "outputs": [
    {
     "name": "stdout",
     "output_type": "stream",
     "text": [
      "alphabets\n",
      "alphabets\n",
      "alphabets\n",
      "alphabets\n"
     ]
    }
   ],
   "source": [
    "ABCD=EFGH=IJKL=MNOP = 'alphabets'\n",
    "\n",
    "print(ABCD)\n",
    "print(EFGH)\n",
    "print(IJKL)\n",
    "print(MNOP)"
   ]
  },
  {
   "cell_type": "code",
   "execution_count": null,
   "id": "cb0c6236-08a1-445b-89cc-6878997847de",
   "metadata": {},
   "outputs": [],
   "source": []
  }
 ],
 "metadata": {
  "kernelspec": {
   "display_name": "Python 3 (ipykernel)",
   "language": "python",
   "name": "python3"
  },
  "language_info": {
   "codemirror_mode": {
    "name": "ipython",
    "version": 3
   },
   "file_extension": ".py",
   "mimetype": "text/x-python",
   "name": "python",
   "nbconvert_exporter": "python",
   "pygments_lexer": "ipython3",
   "version": "3.12.4"
  }
 },
 "nbformat": 4,
 "nbformat_minor": 5
}
