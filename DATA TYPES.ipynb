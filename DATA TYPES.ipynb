{
 "cells": [
  {
   "cell_type": "code",
   "execution_count": 1,
   "id": "cb6a5bab-1c9c-49d9-8355-d8854cbb163a",
   "metadata": {},
   "outputs": [
    {
     "name": "stdout",
     "output_type": "stream",
     "text": [
      "<class 'int'>\n"
     ]
    }
   ],
   "source": [
    "# the numerical data types in python\n",
    "\n",
    "x = 100\n",
    "y = 224.5\n",
    "z = 10j\n",
    "\n",
    "print(type(x))"
   ]
  },
  {
   "cell_type": "code",
   "execution_count": 3,
   "id": "526162b2-925c-4db4-ad9b-82de7197c8eb",
   "metadata": {},
   "outputs": [
    {
     "name": "stdout",
     "output_type": "stream",
     "text": [
      "<class 'float'>\n"
     ]
    }
   ],
   "source": [
    "print(type(y))"
   ]
  },
  {
   "cell_type": "code",
   "execution_count": 5,
   "id": "d5916b3d-ca0b-4a4c-8a9a-00db4d7a62dd",
   "metadata": {},
   "outputs": [
    {
     "name": "stdout",
     "output_type": "stream",
     "text": [
      "<class 'complex'>\n"
     ]
    }
   ],
   "source": [
    "print(type(z))"
   ]
  },
  {
   "cell_type": "code",
   "execution_count": 11,
   "id": "e85a94b7-b4bc-46b5-80fa-2a2725451f46",
   "metadata": {},
   "outputs": [
    {
     "name": "stdout",
     "output_type": "stream",
     "text": [
      "<class 'int'>\n",
      "<class 'float'>\n",
      "<class 'complex'>\n"
     ]
    }
   ],
   "source": [
    "name = -225\n",
    "age = 56.5\n",
    "city = 16j\n",
    "print(type(name))\n",
    "print(type(age))\n",
    "print(type(city))"
   ]
  },
  {
   "cell_type": "code",
   "execution_count": 41,
   "id": "5e87a46e-0734-4d01-8404-64448230e602",
   "metadata": {},
   "outputs": [
    {
     "name": "stdout",
     "output_type": "stream",
     "text": [
      "7.0\n",
      "2\n",
      "(7+0j)\n",
      "(2.88+0j)\n"
     ]
    }
   ],
   "source": [
    "# types of conversions\n",
    "x = 7\n",
    "y = 2.88\n",
    "z = 25j\n",
    "\n",
    "a = float(x)\n",
    "print(float(x))\n",
    "b = int(y)\n",
    "print(int(y))\n",
    "c = complex(x)\n",
    "d = complex(y)\n",
    "print(complex(x))\n",
    "print(complex(y))"
   ]
  },
  {
   "cell_type": "code",
   "execution_count": 43,
   "id": "01d2d48a-cf86-4fa3-80a6-4a64a06d2f34",
   "metadata": {},
   "outputs": [
    {
     "name": "stdout",
     "output_type": "stream",
     "text": [
      "22.0\n"
     ]
    }
   ],
   "source": [
    "age = 22\n",
    "marks = 32.5\n",
    "students = 100j\n",
    "\n",
    "a = float(age)\n",
    "\n",
    "print(float(age))"
   ]
  },
  {
   "cell_type": "code",
   "execution_count": 45,
   "id": "fc790f60-5f2a-416d-9979-a378e4ada142",
   "metadata": {},
   "outputs": [
    {
     "name": "stdout",
     "output_type": "stream",
     "text": [
      "32\n"
     ]
    }
   ],
   "source": [
    "b = int(marks)\n",
    "print(int(marks))"
   ]
  },
  {
   "cell_type": "code",
   "execution_count": 47,
   "id": "39a5d318-55b9-4201-b9c6-95f33786e82a",
   "metadata": {},
   "outputs": [
    {
     "name": "stdout",
     "output_type": "stream",
     "text": [
      "(22+0j)\n"
     ]
    }
   ],
   "source": [
    "c = complex(age)\n",
    "print(complex(age))"
   ]
  },
  {
   "cell_type": "code",
   "execution_count": 49,
   "id": "db8420f0-2991-4134-b03b-05a0252bc836",
   "metadata": {},
   "outputs": [
    {
     "name": "stdout",
     "output_type": "stream",
     "text": [
      "(32.5+0j)\n"
     ]
    }
   ],
   "source": [
    "d = complex(marks)\n",
    "print(complex(marks))"
   ]
  },
  {
   "cell_type": "code",
   "execution_count": 51,
   "id": "5a107aca-0d6e-48df-aff9-4ce7fa78b7c2",
   "metadata": {},
   "outputs": [
    {
     "ename": "TypeError",
     "evalue": "float() argument must be a string or a real number, not 'complex'",
     "output_type": "error",
     "traceback": [
      "\u001b[1;31m---------------------------------------------------------------------------\u001b[0m",
      "\u001b[1;31mTypeError\u001b[0m                                 Traceback (most recent call last)",
      "Cell \u001b[1;32mIn[51], line 1\u001b[0m\n\u001b[1;32m----> 1\u001b[0m e \u001b[38;5;241m=\u001b[39m \u001b[38;5;28mfloat\u001b[39m(students)\n\u001b[0;32m      2\u001b[0m \u001b[38;5;28mprint\u001b[39m(\u001b[38;5;28mfloat\u001b[39m(students))\n",
      "\u001b[1;31mTypeError\u001b[0m: float() argument must be a string or a real number, not 'complex'"
     ]
    }
   ],
   "source": [
    "e = float(students)\n",
    "print(float(students))\n",
    "\n",
    "# float() argument must be a string or a real number ,not complex."
   ]
  },
  {
   "cell_type": "code",
   "execution_count": 63,
   "id": "97173927-ee72-4aa2-b2b5-fae57dc9aa23",
   "metadata": {},
   "outputs": [
    {
     "name": "stdout",
     "output_type": "stream",
     "text": [
      "29.0\n",
      "(29+0j)\n",
      "(1347662.443+0j)\n",
      "1347662\n"
     ]
    }
   ],
   "source": [
    "states = 29\n",
    "continents = 7+0j\n",
    "area = 1347662.443\n",
    "\n",
    "a = float(states)\n",
    "print(float(states))\n",
    "\n",
    "b = complex(states)\n",
    "print(complex(states))\n",
    "\n",
    "b = complex(area)\n",
    "print(complex(area))\n",
    "\n",
    "c = int(area)\n",
    "print(int(area))\n",
    "\n"
   ]
  },
  {
   "cell_type": "code",
   "execution_count": 92,
   "id": "a5689aa6-a05b-471d-b8ee-c8bcbacec561",
   "metadata": {},
   "outputs": [
    {
     "name": "stdout",
     "output_type": "stream",
     "text": [
      "96.0\n",
      "156\n",
      "(156.7+0j)\n",
      "(96+0j)\n"
     ]
    }
   ],
   "source": [
    "prelims = 96\n",
    "mains = 156.7\n",
    "final = 200+5j\n",
    "a = float(prelims)\n",
    "b = int(mains)\n",
    "c = complex(mains)\n",
    "d = complex(prelims)\n",
    "\n",
    "print(float(prelims))\n",
    "print(int(mains))\n",
    "print(complex(mains))\n",
    "print(complex(prelims))\n",
    "\n",
    "# conversions from float to int to complex"
   ]
  },
  {
   "cell_type": "code",
   "execution_count": 110,
   "id": "c1cd0232-7181-4090-a2b9-4b141aefb961",
   "metadata": {},
   "outputs": [
    {
     "name": "stdout",
     "output_type": "stream",
     "text": [
      "False\n",
      "False\n",
      "True\n",
      "True\n",
      "True\n",
      "False\n"
     ]
    }
   ],
   "source": [
    "# python booleans \n",
    "# it represents one of two values True of False\n",
    "\n",
    "print(15 < 9)\n",
    "print(100 == 15)\n",
    "print(15000 == 15000)\n",
    "print(16 < 19)\n",
    "print(160 > 150)\n",
    "print(9  < 6)"
   ]
  },
  {
   "cell_type": "code",
   "execution_count": 112,
   "id": "8c82f566-9b21-407d-8bc7-bf1481a90cff",
   "metadata": {},
   "outputs": [
    {
     "name": "stdout",
     "output_type": "stream",
     "text": [
      "True\n"
     ]
    }
   ],
   "source": [
    "# the bool function\n",
    "\n",
    "print(bool(124))"
   ]
  },
  {
   "cell_type": "code",
   "execution_count": 114,
   "id": "61b525d4-eb13-486f-970f-866bb4b117fe",
   "metadata": {},
   "outputs": [
    {
     "name": "stdout",
     "output_type": "stream",
     "text": [
      "True\n"
     ]
    }
   ],
   "source": [
    "print(bool(-234.5))"
   ]
  },
  {
   "cell_type": "code",
   "execution_count": 116,
   "id": "395c9d2b-f5e4-49cb-9c48-11ca4548246b",
   "metadata": {},
   "outputs": [
    {
     "name": "stdout",
     "output_type": "stream",
     "text": [
      "False\n"
     ]
    }
   ],
   "source": [
    "print(bool(0))"
   ]
  },
  {
   "cell_type": "code",
   "execution_count": 118,
   "id": "c8cb8981-0ce1-4c38-87ea-2cd5c47d4759",
   "metadata": {},
   "outputs": [
    {
     "name": "stdout",
     "output_type": "stream",
     "text": [
      "True\n"
     ]
    }
   ],
   "source": [
    "print(bool(0.1252768))"
   ]
  },
  {
   "cell_type": "code",
   "execution_count": 128,
   "id": "92a40491-a07a-48b5-a041-9edb3da589ed",
   "metadata": {},
   "outputs": [
    {
     "name": "stdout",
     "output_type": "stream",
     "text": [
      "True\n"
     ]
    }
   ],
   "source": [
    "print(bool(100010010))"
   ]
  },
  {
   "cell_type": "code",
   "execution_count": 130,
   "id": "5d4b6f1e-0f28-4c52-b45e-2ace0a36b07f",
   "metadata": {},
   "outputs": [
    {
     "name": "stdout",
     "output_type": "stream",
     "text": [
      "True\n"
     ]
    }
   ],
   "source": [
    "x = 12.5\n",
    "y = 100\n",
    "z = 0\n",
    "\n",
    "print(bool(x))"
   ]
  },
  {
   "cell_type": "code",
   "execution_count": 132,
   "id": "ea86336c-9fe9-4ca7-b878-313ad864d534",
   "metadata": {},
   "outputs": [
    {
     "name": "stdout",
     "output_type": "stream",
     "text": [
      "True\n"
     ]
    }
   ],
   "source": [
    "print(bool(y))"
   ]
  },
  {
   "cell_type": "code",
   "execution_count": 134,
   "id": "9e761b8c-8083-46ac-90fb-55bb0011151c",
   "metadata": {},
   "outputs": [
    {
     "name": "stdout",
     "output_type": "stream",
     "text": [
      "False\n"
     ]
    }
   ],
   "source": [
    "print(bool(z))"
   ]
  },
  {
   "cell_type": "code",
   "execution_count": 142,
   "id": "9a2e5b58-1cd3-4a98-8338-ce19a6cc25c5",
   "metadata": {},
   "outputs": [
    {
     "name": "stdout",
     "output_type": "stream",
     "text": [
      "False\n"
     ]
    }
   ],
   "source": [
    "print(bool(0j))"
   ]
  },
  {
   "cell_type": "code",
   "execution_count": 156,
   "id": "9e8ca437-c956-422a-8b6b-783fad7120ca",
   "metadata": {},
   "outputs": [
    {
     "ename": "TypeError",
     "evalue": "bool expected at most 1 argument, got 3",
     "output_type": "error",
     "traceback": [
      "\u001b[1;31m---------------------------------------------------------------------------\u001b[0m",
      "\u001b[1;31mTypeError\u001b[0m                                 Traceback (most recent call last)",
      "Cell \u001b[1;32mIn[156], line 5\u001b[0m\n\u001b[0;32m      2\u001b[0m b \u001b[38;5;241m=\u001b[39m \u001b[38;5;241m0101211\u001b[39mj\n\u001b[0;32m      3\u001b[0m c \u001b[38;5;241m=\u001b[39m \u001b[38;5;241m23\u001b[39m\n\u001b[1;32m----> 5\u001b[0m \u001b[38;5;28mprint\u001b[39m(\u001b[38;5;28mbool\u001b[39m(a,b,c))\n",
      "\u001b[1;31mTypeError\u001b[0m: bool expected at most 1 argument, got 3"
     ]
    }
   ],
   "source": [
    "a = 1j\n",
    "b = 0101211j\n",
    "c = 23\n",
    "\n",
    "print(bool(a,b,c))"
   ]
  },
  {
   "cell_type": "code",
   "execution_count": 146,
   "id": "d6d5684a-608a-4a65-9ea6-f9f3345f1a37",
   "metadata": {},
   "outputs": [
    {
     "name": "stdout",
     "output_type": "stream",
     "text": [
      "True\n"
     ]
    }
   ],
   "source": [
    "print(bool(a))"
   ]
  },
  {
   "cell_type": "code",
   "execution_count": 152,
   "id": "f4f49406-8623-43dd-a0b5-3fa894e62d24",
   "metadata": {},
   "outputs": [
    {
     "name": "stdout",
     "output_type": "stream",
     "text": [
      "True\n"
     ]
    }
   ],
   "source": [
    "print(bool(b))"
   ]
  },
  {
   "cell_type": "code",
   "execution_count": 162,
   "id": "eaed18d4-455b-4515-972e-9c774bcc6b9b",
   "metadata": {},
   "outputs": [
    {
     "name": "stdout",
     "output_type": "stream",
     "text": [
      "True\n"
     ]
    }
   ],
   "source": [
    "print(bool(c))"
   ]
  },
  {
   "cell_type": "code",
   "execution_count": 164,
   "id": "bd0ad377-4cac-4786-9d79-17e7b9f5e58a",
   "metadata": {},
   "outputs": [
    {
     "name": "stdout",
     "output_type": "stream",
     "text": [
      "True\n"
     ]
    }
   ],
   "source": [
    "print(bool(0101211j))"
   ]
  },
  {
   "cell_type": "code",
   "execution_count": 168,
   "id": "df80177f-25ad-43fe-a0e3-ef48deb68bb5",
   "metadata": {},
   "outputs": [
    {
     "name": "stdout",
     "output_type": "stream",
     "text": [
      "False\n"
     ]
    }
   ],
   "source": [
    "print(bool(0j))"
   ]
  },
  {
   "cell_type": "code",
   "execution_count": null,
   "id": "2f9dfc1d-ef5b-433e-8044-4036dc14a4ab",
   "metadata": {},
   "outputs": [],
   "source": []
  }
 ],
 "metadata": {
  "kernelspec": {
   "display_name": "Python 3 (ipykernel)",
   "language": "python",
   "name": "python3"
  },
  "language_info": {
   "codemirror_mode": {
    "name": "ipython",
    "version": 3
   },
   "file_extension": ".py",
   "mimetype": "text/x-python",
   "name": "python",
   "nbconvert_exporter": "python",
   "pygments_lexer": "ipython3",
   "version": "3.12.4"
  }
 },
 "nbformat": 4,
 "nbformat_minor": 5
}
