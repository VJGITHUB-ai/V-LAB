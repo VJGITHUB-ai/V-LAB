{
 "cells": [
  {
   "cell_type": "code",
   "execution_count": 25,
   "id": "6f5b5450-0e3e-40de-8f70-eb99b2f8da96",
   "metadata": {},
   "outputs": [
    {
     "name": "stdout",
     "output_type": "stream",
     "text": [
      "positive and negative\n",
      "4356\n"
     ]
    }
   ],
   "source": [
    "#python functions\n",
    "#a function is a block of code that performs a specifi task\n",
    "\n",
    "#types of functions\n",
    "#1.standard library functions:also called as inbuilt funcyions like sum(),input(),max(),min(),pow()\n",
    "#2.user defined functions\n",
    "\n",
    "#syntax:\n",
    "#def function_name(arguments):\n",
    "#    return\n",
    "\n",
    "#calling a function \n",
    "def Exam(a):\n",
    "    print(f\"positive and {a}\")\n",
    "Exam(\"negative\")\n",
    "\n",
    "#python function Arguments and return statement\n",
    "def multiplication_numbers(a,b,c):\n",
    "    mul=a*b*c\n",
    "    return mul\n",
    "print(multiplication_numbers(22,33,6))"
   ]
  },
  {
   "cell_type": "code",
   "execution_count": 19,
   "id": "390f5b15-456f-464f-abb0-ab2894050647",
   "metadata": {},
   "outputs": [
    {
     "name": "stdout",
     "output_type": "stream",
     "text": [
      "Even number\n",
      "Odd number\n",
      "Even number\n"
     ]
    }
   ],
   "source": [
    "#1.even or odd with functions\n",
    "def even_or_odd(n):\n",
    "    if n%2==0:\n",
    "        print(\"Even number\")\n",
    "    else:\n",
    "        print(\"Odd number\")\n",
    "\n",
    "even_or_odd(66)\n",
    "even_or_odd(93)\n",
    "even_or_odd(33222)"
   ]
  },
  {
   "cell_type": "code",
   "execution_count": 17,
   "id": "76722dab-2a16-4063-aa4b-7201b8f839f6",
   "metadata": {},
   "outputs": [
    {
     "name": "stdout",
     "output_type": "stream",
     "text": [
      "1032\n",
      "12072\n"
     ]
    }
   ],
   "source": [
    "#Maximum among three numbers with functions\n",
    "def maxi(a,b,c):\n",
    "    if a>b and a>c:\n",
    "        print(a)\n",
    "    elif b>a and b>c:\n",
    "        print(b)\n",
    "    else:\n",
    "        print(c)\n",
    "\n",
    "maxi(1032,99,2)\n",
    "maxi(12072,81,22)"
   ]
  },
  {
   "cell_type": "code",
   "execution_count": 15,
   "id": "a33807d8-ccfb-44f3-9452-62bae66bbe1a",
   "metadata": {},
   "outputs": [
    {
     "name": "stdout",
     "output_type": "stream",
     "text": [
      "7.1\n",
      "2\n"
     ]
    }
   ],
   "source": [
    "#Minimum among three numbers with functions\n",
    "def mini(a,b,c):\n",
    "    if a<b and a<c:\n",
    "        print(a)\n",
    "    elif b<a and b<c:\n",
    "        print(b)\n",
    "    else:\n",
    "        print(c)\n",
    "\n",
    "mini(7.1,100,31)\n",
    "mini(4,2,21)"
   ]
  },
  {
   "cell_type": "code",
   "execution_count": 13,
   "id": "b1c712f8-484e-44bc-ae85-18fb3b3b1d19",
   "metadata": {},
   "outputs": [
    {
     "name": "stdout",
     "output_type": "stream",
     "text": [
      "grade D\n",
      "grade C\n",
      "grade A\n"
     ]
    }
   ],
   "source": [
    "#grading system using functions\n",
    "def grade_of(m):\n",
    "    if m>=91 and m<=100:\n",
    "        print(\"grade A\")\n",
    "    elif m>=81 and m<=90:\n",
    "        print(\"grade B\")\n",
    "    elif m>=71 and m<=80:\n",
    "        print(\"grade C\")\n",
    "    elif m>=61 and m<=70:\n",
    "        print(\"grade D\")\n",
    "    elif m>=51 and m<=60:\n",
    "        print(\"grade E\")\n",
    "    else:\n",
    "        print(\"grade F\")\n",
    "\n",
    "grade_of(66)\n",
    "grade_of(75)\n",
    "grade_of(98)"
   ]
  },
  {
   "cell_type": "code",
   "execution_count": null,
   "id": "f2956ed5-7fc4-4f2e-8cb9-0216ababd718",
   "metadata": {},
   "outputs": [],
   "source": []
  }
 ],
 "metadata": {
  "kernelspec": {
   "display_name": "Python 3 (ipykernel)",
   "language": "python",
   "name": "python3"
  },
  "language_info": {
   "codemirror_mode": {
    "name": "ipython",
    "version": 3
   },
   "file_extension": ".py",
   "mimetype": "text/x-python",
   "name": "python",
   "nbconvert_exporter": "python",
   "pygments_lexer": "ipython3",
   "version": "3.12.4"
  }
 },
 "nbformat": 4,
 "nbformat_minor": 5
}
