{
 "cells": [
  {
   "cell_type": "code",
   "execution_count": 1,
   "id": "7995081a-8e4a-495f-8f4f-b257d5059160",
   "metadata": {},
   "outputs": [
    {
     "name": "stdout",
     "output_type": "stream",
     "text": [
      "machine learning\n",
      "excel\n",
      "['she', 'if', 'sum']\n",
      "['if', 'sum', 'car', 'pen', 'us']\n",
      "['as', 'or', 'he', 'she', 'if', 'sum', 'car', 'pen', 'us']\n"
     ]
    }
   ],
   "source": [
    "#Creation of list\n",
    "numbers = [1, 2, 3, 4, 5]\n",
    "char = [\"Avatar\", \"Bear\", \"Cheeta\"]\n",
    "\n",
    "#Access list Elements\n",
    "languages = [\"python\", \"machine learning\", \"excel\", \"powerbi\"]\n",
    "print(languages[1])\n",
    "print(languages[-2])\n",
    "\n",
    "#Slicing of a list \n",
    "my_list = ['as', 'or', 'he', 'she', 'if', 'sum', 'car', 'pen', 'us']\n",
    "print(my_list[3:6])#[f:n-1]\n",
    "print(my_list[4:])\n",
    "print(my_list[:])"
   ]
  },
  {
   "cell_type": "code",
   "execution_count": 2,
   "id": "26fc49a5-d36c-4116-81ad-456004d485b7",
   "metadata": {},
   "outputs": [
    {
     "name": "stdout",
     "output_type": "stream",
     "text": [
      "['python', 1, 'statistics', 9, 'powerbi', 'figma', 5, 'figjam']\n",
      "['html', 99, 'reactjs', 88, 'html', 99, 'reactjs', 88, 'html', 99, 'reactjs', 88, 'html', 99, 'reactjs', 88, 'html', 99, 'reactjs', 88, 'html', 99, 'reactjs', 88, 'html', 99, 'reactjs', 88, 'html', 99, 'reactjs', 88, 'html', 99, 'reactjs', 88]\n",
      "['power', 'design', 'science', 'maths']\n",
      "['power', 'art', 'design', 'english', 'physics', 'computer']\n"
     ]
    }
   ],
   "source": [
    "#List Operations\n",
    "#Concatenation\n",
    "datascience = [\"python\", 1 ,\"statistics\", 9, \"powerbi\"]\n",
    "uiux = [\"figma\", 5, \"figjam\"]\n",
    "stream = datascience+uiux\n",
    "print(stream)\n",
    "\n",
    "#Repetition\n",
    "fullstack = [\"html\", 99, \"reactjs\", 88]\n",
    "java = fullstack*9\n",
    "print(java)\n",
    "\n",
    "#Change list items\n",
    "list = [\"power\", \"art\", \"science\", \"maths\"]\n",
    "list[1] = \"design\"\n",
    "print(list)\n",
    "\n",
    "thislist = [\"power\", \"art\", \"science\", \"maths\", \"physics\", \"computer\"]\n",
    "thislist[2:4] = [\"design\", \"english\"]\n",
    "print(thislist)"
   ]
  },
  {
   "cell_type": "code",
   "execution_count": 3,
   "id": "74bbcbb5-1f36-4ae2-b490-2063b076e585",
   "metadata": {},
   "outputs": [
    {
     "name": "stdout",
     "output_type": "stream",
     "text": [
      "[90, 80, 70, 95]\n",
      "[36, 65, 70, 22, 66, 58, 45678, 438, 755632]\n",
      "['Monday', 'Tuesday', 'friday', 'Thursday']\n",
      "['Monday', 'Tuesday', 'Wednesday']\n",
      "[36900, 3298, 95793, 576387]\n",
      "497\n",
      "4\n",
      "3\n",
      "[1, 2, 3, 4, 4, 5, 7, 8, 9, 9]\n",
      "['Avacado', 'BananA', 'KiWi', 'Orange', 'PAPAya', 'grapes', 'pineApple']\n",
      "['div', 5678, 'sub', 93883, 'add', 2888]\n"
     ]
    }
   ],
   "source": [
    "#List Methods\n",
    "#Append()\n",
    "scores = [90, 80, 70]\n",
    "scores.append(95)\n",
    "print(scores)\n",
    "\n",
    "#Extend()\n",
    "scores = [36, 65, 70, 22]\n",
    "extra_scores = [66, 58, 45678, 438, 755632]\n",
    "scores.extend(extra_scores)\n",
    "print(scores)\n",
    "\n",
    "#Insert()\n",
    "days = [\"Monday\", \"Tuesday\", \"Thursday\"]\n",
    "days.insert(2, \"friday\")#2 indicates index & friday indicates value\n",
    "print(days)\n",
    "\n",
    "#Remove()\n",
    "days = [\"Monday\", \"Tuesday\", \"Wednesday\", \"Thursday\"]\n",
    "days.remove(\"Thursday\")\n",
    "print(days)\n",
    "\n",
    "#Pop()\n",
    "result = [36900, 3298, 95793, 576387, 497]\n",
    "pop_element = result.pop() \n",
    "print(result)\n",
    "print(pop_element)\n",
    "\n",
    "#Index()\n",
    "result = [9867, 356, 87, 356, 99, 40, 87, 99, 45678908]\n",
    "index = result.index(99)\n",
    "print(index)\n",
    "\n",
    "#Count()\n",
    "range = [1, 2, 2, 3, 2, 4]\n",
    "count = range.count(2)\n",
    "print(count)\n",
    "\n",
    "#Sort()\n",
    "range = [3, 4, 4, 9, 1, 2, 8, 5, 7, 9]\n",
    "range.sort()\n",
    "print(range)\n",
    "\n",
    "fruits = [\"BananA\", \"KiWi\", \"pineApple\", \"PAPAya\", \"grapes\", \"Orange\", \"Avacado\"]\n",
    "fruits.sort()\n",
    "print(fruits)\n",
    "\n",
    "#Reverse()\n",
    "sum = [2888, \"add\", 93883, \"sub\", 5678, \"div\"]\n",
    "sum.reverse()\n",
    "print(sum)"
   ]
  },
  {
   "cell_type": "code",
   "execution_count": 4,
   "id": "2f4b6360-df4b-4eb8-951f-f3c644ad12b1",
   "metadata": {},
   "outputs": [
    {
     "name": "stdout",
     "output_type": "stream",
     "text": [
      "['avacado', 'grapes', 'blueberry', 'cherry']\n",
      "[]\n",
      "[12, 37, 3, 14, 95]\n",
      "3\n",
      "[1, 8765, 345, 88, 95]\n",
      "8765\n",
      "4\n"
     ]
    }
   ],
   "source": [
    "#Copy()\n",
    "fruits = [\"avacado\",\"grapes\",\"blueberry\", \"cherry\"]\n",
    "shakes = fruits.copy() #Creates a copy of a list\n",
    "print(shakes)\n",
    "\n",
    "#Clear()\n",
    "sum = [\"add\", 11, 87, \"mul\"]\n",
    "sum.clear() #Removes all elements from a list\n",
    "print(sum)\n",
    "\n",
    "#Min()\n",
    "elements = [12, 37, 3, 14, 95]\n",
    "print(elements)\n",
    "print(min(elements)) #Return the minimum element in the list\n",
    "\n",
    "#Max()\n",
    "elements = [1, 8765, 345, 88, 95]\n",
    "print(elements)\n",
    "print(max(elements)) #return the maximum element in the list\n",
    "\n",
    "#Len()\n",
    "area = [\"hyd\", \"raidurg\", \"hitech\", \"ameerpet\"]\n",
    "print(len(area)) #Return the length of the list"
   ]
  }
 ],
 "metadata": {
  "kernelspec": {
   "display_name": "Python 3 (ipykernel)",
   "language": "python",
   "name": "python3"
  },
  "language_info": {
   "codemirror_mode": {
    "name": "ipython",
    "version": 3
   },
   "file_extension": ".py",
   "mimetype": "text/x-python",
   "name": "python",
   "nbconvert_exporter": "python",
   "pygments_lexer": "ipython3",
   "version": "3.12.4"
  }
 },
 "nbformat": 4,
 "nbformat_minor": 5
}
