{
 "cells": [
  {
   "cell_type": "code",
   "execution_count": 9,
   "id": "41bec6b0-fcca-4d83-a217-c26d9eff0c5a",
   "metadata": {},
   "outputs": [
    {
     "name": "stdout",
     "output_type": "stream",
     "text": [
      " this is python code \n",
      "<class 'str'>\n",
      "<class 'str'>\n",
      "<class 'str'>\n"
     ]
    }
   ],
   "source": [
    "# creating a string with single quotes , double quotes and triple quotes\n",
    "my_string1 = 'Hello, World!'\n",
    "my_string2 = \"python\"\n",
    "my_string3 = \"\"\" this is python code \"\"\"\n",
    "print(my_string3)\n",
    "\n",
    "print(type(my_string1))\n",
    "print(type(my_string2))\n",
    "print(type(my_string3))\n"
   ]
  },
  {
   "cell_type": "code",
   "execution_count": 69,
   "id": "c7bd153d-7faf-4d31-b0d8-48dc282a5a13",
   "metadata": {
    "scrolled": true
   },
   "outputs": [
    {
     "name": "stdout",
     "output_type": "stream",
     "text": [
      "Hello India\n",
      "train45 train45 train45 train45 train45 train45 train45 train45 train45 train45 train45 train45 train45 train45 train45 train45 train45 train45 train45 train45 train45 train45 train45 train45 train45 train45 train45 train45 train45 train45 \n",
      "y\n",
      "n\n",
      "c\n",
      "lo, Worl\n"
     ]
    }
   ],
   "source": [
    "# string operations\n",
    "# concatenation\n",
    "str1 = \"Hello\"\n",
    "str2 = \"India\"\n",
    "result = str1 + \" \" + str2\n",
    "print(result)\n",
    "\n",
    "# Repetition\n",
    "str1 = \"train45 \"\n",
    "result = str1 * 30\n",
    "print(result)\n",
    "\n",
    "# indexing\n",
    "my_string = \"india is my country\"\n",
    "print(my_string[10])\n",
    "print(my_string[15])\n",
    "print(my_string[-7])\n",
    "\n",
    "# slicing\n",
    "my_string = \"Hello, World!\"\n",
    "substring = my_string[3:11]\n",
    "print(substring)"
   ]
  },
  {
   "cell_type": "code",
   "execution_count": 181,
   "id": "45cd0edf-d0bc-4ff0-b6a8-1a71db424031",
   "metadata": {},
   "outputs": [
    {
     "name": "stdout",
     "output_type": "stream",
     "text": [
      "My name is  vijay  and i am 21 years old.\n",
      "My name is 21 and i am  vijay  years old.\n",
      "My name is  vijay  and i am 21 years old.\n",
      "My name is  vijay  and i am 21 years old.I am from  mumbai .\n"
     ]
    }
   ],
   "source": [
    "# python format strings\n",
    "name = \" vijay \"\n",
    "age = 21\n",
    "location = \" mumbai \"\n",
    "\n",
    "formatted_string = \"My name is %s and i am %d years old.\" %(name,age)\n",
    "print(formatted_string)\n",
    "\n",
    "formatted_string = \"My name is {} and i am {} years old.\" .format(age,name)\n",
    "print(formatted_string)\n",
    "\n",
    "formatted_string = \"My name is {} and i am {} years old.\" .format(name,age)\n",
    "print(formatted_string)\n",
    "\n",
    "\n",
    "formatted_string = f\"My name is {name} and i am {age} years old.I am from {location}.\"\n",
    "print(formatted_string)\n",
    "\n",
    "\n",
    "\n",
    "\n"
   ]
  },
  {
   "cell_type": "code",
   "execution_count": 192,
   "id": "a5b23ccb-e9b8-442e-a031-37be4c0866c1",
   "metadata": {},
   "outputs": [
    {
     "name": "stdout",
     "output_type": "stream",
     "text": [
      "21\n"
     ]
    }
   ],
   "source": [
    "# length\n",
    "quote =\"success is a journey \"\n",
    "length=len(quote)\n",
    "print(length)"
   ]
  },
  {
   "cell_type": "code",
   "execution_count": 194,
   "id": "5e406bc5-52af-42e6-9c98-32bffb5787bc",
   "metadata": {},
   "outputs": [
    {
     "name": "stdout",
     "output_type": "stream",
     "text": [
      "BLACK IS UNIQUE COLOUR\n",
      "black is unique colour\n"
     ]
    }
   ],
   "source": [
    "#Lowercase/Uppercase\n",
    "str1='black is unique colour'\n",
    "str2=str1.upper()\n",
    "print(str2)\n",
    "str3=str1.lower()\n",
    "print(str3)"
   ]
  },
  {
   "cell_type": "code",
   "execution_count": 201,
   "id": "6f8c8d3f-43ce-4d7d-be70-0cf5566932eb",
   "metadata": {},
   "outputs": [
    {
     "name": "stdout",
     "output_type": "stream",
     "text": [
      "mobile has different application\n"
     ]
    }
   ],
   "source": [
    "#strip():\n",
    "mobile = \"mobile has different application   \"\n",
    "f=mobile.strip()\n",
    "print(f)\n"
   ]
  },
  {
   "cell_type": "code",
   "execution_count": 203,
   "id": "85fbea1a-837d-41fb-b09b-2f7dd395dcaf",
   "metadata": {},
   "outputs": [
    {
     "name": "stdout",
     "output_type": "stream",
     "text": [
      "ace engineering & technology\n"
     ]
    }
   ],
   "source": [
    "# replace():\n",
    "college =\"ace engineering and technology\"\n",
    "str = college.replace(\"and\",\"&\")\n",
    "print(str)"
   ]
  },
  {
   "cell_type": "code",
   "execution_count": 218,
   "id": "c4244742-be41-477e-b2de-bac3ee74d75d",
   "metadata": {},
   "outputs": [
    {
     "name": "stdout",
     "output_type": "stream",
     "text": [
      "Vartya vijay\n"
     ]
    }
   ],
   "source": [
    "# capitalize\n",
    "name = \"vartya vijay\"\n",
    "print(name.capitalize())\n"
   ]
  },
  {
   "cell_type": "code",
   "execution_count": 226,
   "id": "0907a0ff-389b-4061-9db8-417772a73ee1",
   "metadata": {},
   "outputs": [
    {
     "name": "stdout",
     "output_type": "stream",
     "text": [
      "InDia Is My COUntrY\n",
      "india is my country\n"
     ]
    }
   ],
   "source": [
    "# casefold():\n",
    "\n",
    "string = \"InDia Is My COUntrY\"\n",
    "\n",
    "print(string)\n",
    "\n",
    "print(string.casefold())\n"
   ]
  },
  {
   "cell_type": "code",
   "execution_count": 232,
   "id": "67c71057-91a1-4b13-9f68-95e954259d97",
   "metadata": {},
   "outputs": [
    {
     "name": "stdout",
     "output_type": "stream",
     "text": [
      "iam an aspirant\n"
     ]
    }
   ],
   "source": [
    "# Center():\n",
    "string = \"iam an aspirant\"\n",
    " \n",
    "print(string.center(5))\n"
   ]
  },
  {
   "cell_type": "code",
   "execution_count": 242,
   "id": "8ff9cb79-b8c0-4b5f-b90a-9a7888e6bf88",
   "metadata": {},
   "outputs": [
    {
     "name": "stdout",
     "output_type": "stream",
     "text": [
      "2\n"
     ]
    }
   ],
   "source": [
    "# count():\n",
    "my_string = \"elephant\"\n",
    "char_count = my_string.count('e')\n",
    "print(char_count)\n"
   ]
  },
  {
   "cell_type": "code",
   "execution_count": 258,
   "id": "3b5f308f-4377-4c96-a07f-b1d76363d35f",
   "metadata": {},
   "outputs": [
    {
     "name": "stdout",
     "output_type": "stream",
     "text": [
      "b'vijayyy'\n"
     ]
    }
   ],
   "source": [
    "# encode():\n",
    "string = \"vijayyy\" \n",
    "\n",
    "print(string.encode('ascii', errors='ignore'))\n"
   ]
  },
  {
   "cell_type": "code",
   "execution_count": 264,
   "id": "dfb0ba4a-4c3d-4cf4-99dd-8b6490e666fb",
   "metadata": {},
   "outputs": [
    {
     "name": "stdout",
     "output_type": "stream",
     "text": [
      "True\n"
     ]
    }
   ],
   "source": [
    "# endswith()\n",
    "text = \"vijay is a good boy.\"\n",
    "result = text.endswith('boy.', 10)\n",
    "print(result)\n"
   ]
  },
  {
   "cell_type": "code",
   "execution_count": 294,
   "id": "4b9c7a5d-ee34-4881-af4d-c1ce54f673e7",
   "metadata": {},
   "outputs": [
    {
     "name": "stdout",
     "output_type": "stream",
     "text": [
      "Modified string using default spacing: t              love           less\n",
      "\n",
      "Modified string using less spacing: t love  less\n",
      "\n",
      "Modified string using more spacing: t           love        less\n",
      "\n"
     ]
    }
   ],
   "source": [
    "# expandtabs()\n",
    "\n",
    "string = \"t\\tlove\\tless\"\n",
    "\n",
    "# using expandtabs to insert spacing\n",
    "print(\"Modified string using default spacing: \", end =\"\")\n",
    "print(string.expandtabs(15))\n",
    "print()\n",
    "\n",
    "# using expandtabs to insert spacing\n",
    "print(\"Modified string using less spacing: \", end =\"\")\n",
    "print(string.expandtabs(2))\n",
    "print()\n",
    "\n",
    "# using expandtabs to insert spacing\n",
    "print(\"Modified string using more spacing: \", end =\"\")\n",
    "print(string.expandtabs(12))\n",
    "print()\n"
   ]
  },
  {
   "cell_type": "code",
   "execution_count": 298,
   "id": "a1478fa1-cd67-4a22-bd3b-69ac75e2463b",
   "metadata": {},
   "outputs": [
    {
     "name": "stdout",
     "output_type": "stream",
     "text": [
      "Vijay\n",
      "arjun reddy\n",
      "-------Vijay--------\n",
      "1\n",
      "b'Vijay'\n",
      "False\n",
      "Hello   World\n",
      "6\n",
      "Hello, Vijay!\n",
      "Hello, Vamshi!\n",
      "6\n",
      "True\n",
      "True\n",
      "True\n",
      "True\n",
      "True\n",
      "True\n",
      "False\n",
      "True\n",
      "True\n",
      "True\n",
      "True\n",
      "False\n",
      "Hello-World\n",
      "Vijay---------------\n",
      "vijay\n",
      "dont interrupt and be calm.   \n",
      "Bijay\n",
      "('Arjun', ' ', 'Reddy')\n",
      "Reddy\n",
      "Arjun\n",
      "Arjun Singh\n",
      "7\n",
      "7\n",
      "---------------Vijay\n",
      "['   dont interrupt and be calm.   ']\n",
      "   dont interrupt and be calm.\n",
      "['Arjun', 'Reddy']\n",
      "['Hello', 'World']\n",
      "True\n",
      "dont interrupt and be calm.\n",
      "vIJAY\n",
      "Arjun Reddy\n",
      "VIJAY\n",
      "0000012345\n"
     ]
    }
   ],
   "source": [
    "\n",
    "name1 = \"Vijay\"\n",
    "name2 = \"Vamshi\"\n",
    "numeric_str = \"12345\"\n",
    "movie = \"Arjun Reddy\"\n",
    "quote = \"   dont interrupt and be calm.   \"\n",
    "\n",
    "# capitalize()\n",
    "print(name1.capitalize())\n",
    "\n",
    "# casefold()\n",
    "print(movie.casefold())\n",
    "# center(width, fillchar)\n",
    "print(name1.center(20, '-'))\n",
    "\n",
    "# count(substring, start, end)\n",
    "print(movie.count('e'))  \n",
    "# encode(encoding, errors)\n",
    "print(name1.encode('utf-8'))  \n",
    "# endswith(suffix, start, end)\n",
    "print(quote.endswith('.')) \n",
    "\n",
    "# expandtabs(tabsize)\n",
    "tab_str = \"Hello\\tWorld\"\n",
    "print(tab_str.expandtabs(4))  \n",
    "\n",
    "# find(substring, start, end)\n",
    "print(movie.find('Reddy'))  \n",
    "\n",
    "# format(*args, **kwargs)\n",
    "print(\"Hello, {}!\".format(name1))  \n",
    "\n",
    "# format_map(mapping)\n",
    "data = {'name': 'Vamshi'}\n",
    "print(\"Hello, {name}!\".format_map(data))  \n",
    "\n",
    "# index(substring, start, end)\n",
    "print(movie.index('Reddy'))  \n",
    "\n",
    "# isalnum()\n",
    "print(name1.isalnum())  \n",
    "\n",
    "# isalpha()\n",
    "print(name1.isalpha()) \n",
    "# isascii()\n",
    "print(name1.isascii())  \n",
    "\n",
    "# isdecimal()\n",
    "print(numeric_str.isdecimal()) \n",
    "# isdigit()\n",
    "print(numeric_str.isdigit()) \n",
    "\n",
    "# isidentifier()\n",
    "print(\"variable1\".isidentifier())  \n",
    "\n",
    "# islower()\n",
    "print(movie.islower())  \n",
    "\n",
    "# isnumeric()\n",
    "print(numeric_str.isnumeric()) \n",
    "\n",
    "# isprintable()\n",
    "print(quote.isprintable())  \n",
    "\n",
    "# isspace()\n",
    "print(\"   \".isspace()) \n",
    "\n",
    "# istitle()\n",
    "print(movie.istitle()) \n",
    "\n",
    "# isupper()\n",
    "print(name1.isupper()) \n",
    "\n",
    "# join(iterable)\n",
    "print(\"-\".join([\"Hello\", \"World\"]))  \n",
    "\n",
    "# ljust(width, fillchar)\n",
    "print(name1.ljust(20, '-'))  \n",
    "\n",
    "# lower()\n",
    "print(name1.lower())  \n",
    "\n",
    "# lstrip(chars)\n",
    "print(quote.lstrip())  \n",
    "\n",
    "# maketrans(x, y, z)\n",
    "trans_table = str.maketrans(\"V\", \"B\")\n",
    "print(name1.translate(trans_table))  \n",
    "\n",
    "# partition(separator)\n",
    "print(movie.partition(' '))  \n",
    "\n",
    "# removeprefix(prefix)\n",
    "print(movie.removeprefix('Arjun '))  \n",
    "\n",
    "# removesuffix(suffix)\n",
    "print(movie.removesuffix(' Reddy')) \n",
    "\n",
    "# replace(old, new, count)\n",
    "print(movie.replace('Reddy', 'Singh'))  \n",
    "\n",
    "# rfind(substring, start, end)\n",
    "print(movie.rfind('e'))  \n",
    "\n",
    "# rindex(substring, start, end)\n",
    "print(movie.rindex('e'))  \n",
    "\n",
    "# rjust(width, fillchar)\n",
    "print(name1.rjust(20, '-')) \n",
    "\n",
    "# rsplit(separator, maxsplit)\n",
    "print(quote.rsplit(',', 1)) \n",
    "\n",
    "# rstrip(chars)\n",
    "print(quote.rstrip())  \n",
    "\n",
    "# split(separator, maxsplit)\n",
    "print(movie.split()) \n",
    "\n",
    "# splitlines(keepends)\n",
    "multiline_str = \"Hello\\nWorld\"\n",
    "print(multiline_str.splitlines())  \n",
    "\n",
    "# startswith(prefix, start, end)\n",
    "print(movie.startswith('Arjun')) \n",
    "\n",
    "# strip(chars)\n",
    "print(quote.strip()) \n",
    "\n",
    "# swapcase()\n",
    "print(name1.swapcase()) \n",
    "# title()\n",
    "print(movie.title())  \n",
    "\n",
    "# upper()\n",
    "print(name1.upper())  \n",
    "\n",
    "# zfill(width)\n",
    "print(numeric_str.zfill(10))  \n"
   ]
  },
  {
   "cell_type": "code",
   "execution_count": 309,
   "id": "0744436c-3253-432e-96f0-75d02014450b",
   "metadata": {},
   "outputs": [
    {
     "name": "stdout",
     "output_type": "stream",
     "text": [
      "vijay\n",
      "je\n"
     ]
    },
    {
     "data": {
      "text/plain": [
       "('vijay', 'je', 'banana , car')"
      ]
     },
     "execution_count": 309,
     "metadata": {},
     "output_type": "execute_result"
    }
   ],
   "source": [
    "#python tuples\n",
    "my_tuple=(1,\"vijay\",\"je\",\"banana , car\")\n",
    "\n",
    "#passing single value in tuple\n",
    "single_val_tuple=(\"vijay devarakonda\",)\n",
    "#accessing tuples\n",
    "print(my_tuple[1])\n",
    "print(my_tuple[-2])\n",
    "my_tuple[1:4]"
   ]
  },
  {
   "cell_type": "code",
   "execution_count": 311,
   "id": "b1db9562-3c89-4f34-a125-69f0adecd9a7",
   "metadata": {},
   "outputs": [
    {
     "name": "stdout",
     "output_type": "stream",
     "text": [
      "('vijay', 'vamshi', 'rakesh', 1, 2, 3, 4, 5, 6, 7, 8, 9, 10)\n",
      "('vijay', 'vamshi', 'rakesh', 'vijay', 'vamshi', 'rakesh', 'vijay', 'vamshi', 'rakesh', 'vijay', 'vamshi', 'rakesh', 'vijay', 'vamshi', 'rakesh')\n",
      "(1, 2, 3, 4, 5, 6, 7, 8, 9, 10, 1, 2, 3, 4, 5, 6, 7, 8, 9, 10, 1, 2, 3, 4, 5, 6, 7, 8, 9, 10, 1, 2, 3, 4, 5, 6, 7, 8, 9, 10, 1, 2, 3, 4, 5, 6, 7, 8, 9, 10, 1, 2, 3, 4, 5, 6, 7, 8, 9, 10, 1, 2, 3, 4, 5, 6, 7, 8, 9, 10, 1, 2, 3, 4, 5, 6, 7, 8, 9, 10, 1, 2, 3, 4, 5, 6, 7, 8, 9, 10, 1, 2, 3, 4, 5, 6, 7, 8, 9, 10)\n"
     ]
    }
   ],
   "source": [
    "#Tuple operations\n",
    "#1.concatenation\n",
    "tuple_1=(\"vijay\",\"vamshi\",\"rakesh\")\n",
    "tuple_2=(1,2,3,4,5,6,7,8,9,10)\n",
    "print(tuple_1 + tuple_2)\n",
    "\n",
    "#2.repetition\n",
    "print(tuple_1 * 5)\n",
    "print(tuple_2 * 10)"
   ]
  },
  {
   "cell_type": "code",
   "execution_count": 324,
   "id": "1fddaa7b-405c-4c9a-acbe-2f4501ad0768",
   "metadata": {},
   "outputs": [
    {
     "name": "stdout",
     "output_type": "stream",
     "text": [
      "1\n",
      "4\n",
      "[1, 12, 15, 892, 1876, 18127]\n",
      "6\n",
      "('simplicity', 'age', 'gender', 'quality', 'career')\n",
      "2134242\n",
      "46\n"
     ]
    }
   ],
   "source": [
    "#tuple methods\n",
    "#1.count\n",
    "my_tuple=(\"name\",\"simplicity\",\"age\",\"gender\",\"quality\",\"career\")\n",
    "print(my_tuple.count(\"quality\"))\n",
    "\n",
    "#2.index\n",
    "my_tuple=(\"name\",\"simplicity\",\"age\",\"gender\",\"quality\",\"career\")\n",
    "print(my_tuple.index(\"quality\"))\n",
    "\n",
    "#3.sorted\n",
    "a=(1,12,15,892,1876,18127)\n",
    "x=sorted(a)\n",
    "print(x)\n",
    "\n",
    "#4.length\n",
    "y=len(a)\n",
    "print(y)\n",
    "\n",
    "#5.slicing\n",
    "slice=my_tuple[1:7]\n",
    "print(slice)\n",
    "\n",
    "#6.max\n",
    "values=(2134242,323,452,63,233,46,743)\n",
    "print(max(values))\n",
    "\n",
    "#7.min\n",
    "print(min(values))"
   ]
  },
  {
   "cell_type": "code",
   "execution_count": null,
   "id": "f3af6d2a-3fdd-4f04-8157-2ffa7b6689b2",
   "metadata": {},
   "outputs": [],
   "source": []
  },
  {
   "cell_type": "code",
   "execution_count": null,
   "id": "2bfc5977-9e99-423d-ab96-3c6b1f3c0d0e",
   "metadata": {},
   "outputs": [],
   "source": []
  }
 ],
 "metadata": {
  "kernelspec": {
   "display_name": "Python 3 (ipykernel)",
   "language": "python",
   "name": "python3"
  },
  "language_info": {
   "codemirror_mode": {
    "name": "ipython",
    "version": 3
   },
   "file_extension": ".py",
   "mimetype": "text/x-python",
   "name": "python",
   "nbconvert_exporter": "python",
   "pygments_lexer": "ipython3",
   "version": "3.12.4"
  }
 },
 "nbformat": 4,
 "nbformat_minor": 5
}
