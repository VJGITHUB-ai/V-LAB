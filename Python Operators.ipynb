{
 "cells": [
  {
   "cell_type": "code",
   "execution_count": 20,
   "id": "2bc6fef7-c155-4776-8016-838b76670b16",
   "metadata": {},
   "outputs": [
    {
     "name": "stdout",
     "output_type": "stream",
     "text": [
      "25\n",
      "9\n",
      "136\n",
      "2.125\n",
      "2\n",
      "2\n",
      "6975757441\n"
     ]
    }
   ],
   "source": [
    "# arithmetic operator\n",
    "\n",
    "# addition\n",
    "a = 17\n",
    "b = 8\n",
    "c = a + b\n",
    "print(c)\n",
    "\n",
    "# subraction\n",
    "d = a - b\n",
    "print(d)\n",
    "\n",
    "# multiplication\n",
    "e = a * b\n",
    "print(e)\n",
    "\n",
    "# division\n",
    "f = a / b\n",
    "print(f)\n",
    "\n",
    "# floor divison\n",
    "g = a // b\n",
    "print(g)\n",
    "\n",
    "# modulus\n",
    "h = a % b\n",
    "print(g)\n",
    "\n",
    "# exponential\n",
    "i = a ** b\n",
    "print(i)"
   ]
  },
  {
   "cell_type": "code",
   "execution_count": 34,
   "id": "dd75ed17-5e3e-4001-a5ab-901a83d97890",
   "metadata": {},
   "outputs": [
    {
     "name": "stdout",
     "output_type": "stream",
     "text": [
      "25\n",
      "20\n",
      "100\n",
      "20.0\n",
      "0.0\n",
      "0.0\n"
     ]
    }
   ],
   "source": [
    "# assignment operator\n",
    "a = 20\n",
    "b = 5\n",
    "\n",
    "# addition assignment\n",
    "a += b\n",
    "print(a)\n",
    "\n",
    "# subraction assigment\n",
    "a -= b\n",
    "print(a)\n",
    "\n",
    "# multiplication assignment\n",
    "a *= b\n",
    "print(a)\n",
    "\n",
    "# division operator\n",
    "a /= b\n",
    "print(a)\n",
    "\n",
    "# remainder assignment\n",
    "a %= b\n",
    "print(a)\n",
    "\n",
    "# exponential assignment\n",
    "a **= b\n",
    "print(a)\n"
   ]
  },
  {
   "cell_type": "code",
   "execution_count": 46,
   "id": "22c3a289-e155-44d5-a912-290a48712dc1",
   "metadata": {},
   "outputs": [
    {
     "name": "stdout",
     "output_type": "stream",
     "text": [
      "False\n",
      "True\n",
      "False\n",
      "True\n",
      "False\n",
      "True\n"
     ]
    }
   ],
   "source": [
    "# comparison operator\n",
    "a = 16\n",
    "b = 32\n",
    "# equal to\n",
    "print(a == b)\n",
    "# not equal to \n",
    "print(a != b)\n",
    "# greater than\n",
    "print(a > b)\n",
    "# less than\n",
    "print(a < b)\n",
    "# greater than or equal to\n",
    "print(a >= b )\n",
    "# less than or equal to\n",
    "print(a <= b)\n"
   ]
  },
  {
   "cell_type": "code",
   "execution_count": 60,
   "id": "67df2a64-8fe9-4ee9-acb5-60c53949ef28",
   "metadata": {},
   "outputs": [
    {
     "name": "stdout",
     "output_type": "stream",
     "text": [
      "True\n",
      "True\n",
      "False\n",
      "False\n"
     ]
    }
   ],
   "source": [
    "# logical operators\n",
    "# and \n",
    "print(5 < 30 and 1 < 6)\n",
    "\n",
    "# or\n",
    "print(16 < 32 or 5 < 1)\n",
    "\n",
    "# not\n",
    "print(not(5 < 30 and 1 < 6))\n",
    "print(not(5 > 30 or 1 < 6))"
   ]
  },
  {
   "cell_type": "code",
   "execution_count": 72,
   "id": "790531d0-5dcd-439d-b14a-6a4cd31d80f3",
   "metadata": {},
   "outputs": [
    {
     "name": "stdout",
     "output_type": "stream",
     "text": [
      "True\n",
      "True\n",
      "False\n",
      "False\n",
      "False\n",
      "True\n"
     ]
    }
   ],
   "source": [
    "# identity operator\n",
    "# is \n",
    "# is not\n",
    "\n",
    "a1 = 10\n",
    "b1 = 10\n",
    "c1 = 'vijay'\n",
    "c2 = 'vartya vijay'\n",
    "print(a1 is b1)\n",
    "print(b1 is not c1)\n",
    "print(c2 is b1)\n",
    "print(c1 is c2)\n",
    "print(c2 is c1)\n",
    "print(c1 is not c2)"
   ]
  },
  {
   "cell_type": "code",
   "execution_count": 82,
   "id": "1c4d0873-a50f-424f-9c10-1c4c3771efb9",
   "metadata": {},
   "outputs": [
    {
     "name": "stdout",
     "output_type": "stream",
     "text": [
      "True\n",
      "True\n"
     ]
    }
   ],
   "source": [
    "# membership operator\n",
    "# in \n",
    "# not in\n",
    "\n",
    "x = 'vartya vijay'\n",
    "y = [11,12,13,14,15,16,17]\n",
    "print('t' in x)\n",
    "print('11' not in x)\n",
    "print"
   ]
  },
  {
   "cell_type": "code",
   "execution_count": null,
   "id": "9ef8354a-0c3a-4f7d-8b68-082e21f72a13",
   "metadata": {},
   "outputs": [],
   "source": []
  }
 ],
 "metadata": {
  "kernelspec": {
   "display_name": "Python 3 (ipykernel)",
   "language": "python",
   "name": "python3"
  },
  "language_info": {
   "codemirror_mode": {
    "name": "ipython",
    "version": 3
   },
   "file_extension": ".py",
   "mimetype": "text/x-python",
   "name": "python",
   "nbconvert_exporter": "python",
   "pygments_lexer": "ipython3",
   "version": "3.12.4"
  }
 },
 "nbformat": 4,
 "nbformat_minor": 5
}
